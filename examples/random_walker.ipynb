{
 "cells": [
  {
   "cell_type": "markdown",
   "metadata": {},
   "source": [
    "# Random Gaussian Walker"
   ]
  },
  {
   "cell_type": "markdown",
   "metadata": {},
   "source": [
    "In order to test the capabilities of the TrackEddy time-tracking algorithm\n",
    "a fwe idealised perturbation field were generated. All the examples\n",
    "consist on a number of Gaussians which moves stochasticly or commonly known as random walkers(initial conditions and time evolution)."
   ]
  },
  {
   "cell_type": "markdown",
   "metadata": {},
   "source": [
    "Each Gaussian perturbation starts at location (x,y) and at each\n",
    "time step it moves +1 or -1 in the x and y axis with equal probability and allowing it to move in multiple directions as shown below.\n",
    "\n",
    "\\begin{array} {c c c}\n",
    "\\nwarrow & \\uparrow & \\nearrow\\\\\n",
    "\\leftarrow & \\cdot & \\rightarrow\\\\\n",
    "\\swarrow & \\downarrow & \\searrow\\\\\n",
    "\\end{array}"
   ]
  },
  {
   "cell_type": "markdown",
   "metadata": {},
   "source": [
    "Then TrackEddy was implemented to verify the capabilities of the tracking\n",
    "and reconstruction of the field."
   ]
  },
  {
   "cell_type": "markdown",
   "metadata": {},
   "source": [
    "Tracking of each individual Gaussian as it moves as a random walker."
   ]
  },
  {
   "cell_type": "code",
   "execution_count": null,
   "metadata": {},
   "outputs": [],
   "source": [
    "import sys\n",
    "from netCDF4 import Dataset\n",
    "import os\n",
    "import cmocean as cm\n",
    "from trackeddy.tracking import *\n",
    "from trackeddy.datastruct import *\n",
    "from trackeddy.geometryfunc import *\n",
    "from trackeddy.init import *\n",
    "from trackeddy.physics import *\n",
    "#from trackeddy.plotfunc import *\n",
    "from numpy import *\n",
    "from pylab import *\n",
    "import cmocean as cm\n",
    "import random\n",
    "%matplotlib inline\n",
    "import scipy.optimize as opt"
   ]
  },
  {
   "cell_type": "code",
   "execution_count": null,
   "metadata": {},
   "outputs": [],
   "source": [
    "def go_right(indexs,step):\n",
    "    return [0,step]\n",
    "    \n",
    "def go_upright(indexs,step):\n",
    "    return [step,step]\n",
    "    \n",
    "def go_up(indexs,step):\n",
    "    return [step,0]\n",
    "\n",
    "def go_upleft(indexs,step):\n",
    "    return [step,-step]\n",
    "    \n",
    "def go_left(indexs,step):\n",
    "    return [0,-step]\n",
    "\n",
    "def go_downleft(indexs,step):\n",
    "    return [-step,-step]\n",
    "    \n",
    "def go_down(indexs,step):\n",
    "    return [-step,0]\n",
    "\n",
    "def go_downright(indexs,step):\n",
    "    return [-step,step]"
   ]
  },
  {
   "cell_type": "code",
   "execution_count": null,
   "metadata": {},
   "outputs": [],
   "source": [
    "from random import randrange, uniform\n",
    "import numpy as np\n",
    "\n",
    "def makeGaussian(size, fwhm = 3, center=None):\n",
    "    \"\"\" Make a square gaussian kernel.\n",
    "\n",
    "    size is the length of a side of the square\n",
    "    fwhm is full-width-half-maximum, which\n",
    "    can be thought of as an effective radius.\n",
    "    \"\"\"\n",
    "\n",
    "    x = np.arange(0, size, 1, float)\n",
    "    y = x[:,np.newaxis]\n",
    "\n",
    "    if center is None:\n",
    "        x0 = y0 = size // 2\n",
    "    else:\n",
    "        x0 = center[0]\n",
    "        y0 = center[1]\n",
    "\n",
    "    return np.exp(-4*np.log(2) * ((x-x0)**2 + (y-y0)**2) / fwhm**2)\n",
    "\n",
    "def moveGaussian(size,fwhm,center,timestep):\n",
    "    z=np.zeros([timestep,size,size])\n",
    "    for tt in range(0,timestep):\n",
    "        z[tt,:,:]=makeGaussian(size, fwhm, (center[tt,0],center[tt,1]))\n",
    "    return z\n",
    "\n",
    "def RandGaussian(size,time,nn):\n",
    "    zz=np.zeros([time,size,size])\n",
    "    zz1=zz*1\n",
    "    ii=0\n",
    "    while ii < nn:\n",
    "        xx=(randrange(0, 100)/100.0)*size\n",
    "        xxx=(randrange(0, 100)/100.0)*size\n",
    "        yyy=(randrange(0, 100)/100.0)*size\n",
    "        if xx > size/8 and xx < size/4:\n",
    "            center=array([[xxx,yyy+x] for x in linspace(size*0.1,size*0.9,time)])\n",
    "            #print(center)\n",
    "            for tt in range(0,time):\n",
    "                zz1[tt,:,:]=makeGaussian(size, xx,(center[tt,0],center[tt,1]))\n",
    "            zz=zz+zz1\n",
    "            ii=ii+1\n",
    "    return zz"
   ]
  },
  {
   "cell_type": "code",
   "execution_count": null,
   "metadata": {},
   "outputs": [],
   "source": [
    "size=600\n",
    "time=1\n",
    "zzn=-RandGaussian(size,time,10)\n",
    "zzp=RandGaussian(size,time,10)"
   ]
  },
  {
   "cell_type": "code",
   "execution_count": null,
   "metadata": {},
   "outputs": [],
   "source": [
    "x=linspace(0,1,100)\n",
    "y=linspace(0,1,100)\n",
    "X,Y=meshgrid(x,y)\n",
    "gauss=twoD_Gaussian((X,Y,1,0.5,0.5), 0.1, 0.1, 0, slopex=0, slopey=0, offset=0).reshape(len(x),len(y))\n",
    "away_val=5"
   ]
  },
  {
   "cell_type": "code",
   "execution_count": null,
   "metadata": {},
   "outputs": [],
   "source": [
    "def dist(loc1,loc2):\n",
    "    return sqrt((loc1[0]-loc2[0])**2 + (loc2[1]-loc1[1])**2)\n",
    "\n",
    "def checkposition(eddies,x,y,away_val):\n",
    "    for key,item in eddies.items():\n",
    "        for key1,item1 in eddies.items():\n",
    "            xc=item['loc'][0][0]\n",
    "            yc=item['loc'][0][1]\n",
    "            xc1=item1['loc'][0][0]\n",
    "            yc1=item1['loc'][0][1]\n",
    "            distance=dist([x[xc],y[yc]],[x[xc1],y[yc1]])\n",
    "            #print(distance)\n",
    "            checker = (distance < away_val*a or distance < away_val*b ) and key1!=key\n",
    "            #print(checker)\n",
    "            while checker:\n",
    "                newx=randint(0,xlen)\n",
    "                newy=randint(0,ylen)\n",
    "                eddies[key1]={'loc':[[newx, newy]],'grow':True,'radius':a,\\\n",
    "                             'amp':random.choice([-1,1])}\n",
    "                xc1=newx\n",
    "                yc1=newy\n",
    "                distance=dist([x[xc],y[yc]],[x[xc1],y[yc1]])\n",
    "                checker = (distance < 1*a or distance < 1*b ) and key1!=key"
   ]
  },
  {
   "cell_type": "code",
   "execution_count": null,
   "metadata": {},
   "outputs": [],
   "source": [
    "n=15\n",
    "steps=1\n",
    "x=linspace(0,5,300)\n",
    "y=linspace(0,5,300)\n",
    "\n",
    "xlen=len(x)\n",
    "ylen=len(y)\n",
    "\n",
    "count=0\n",
    "\n",
    "X,Y=meshgrid(x,y)\n",
    "a=b=0.1\n",
    "count=a\n",
    "data=zeros(shape(X))\n",
    "diagnostics=True\n",
    "rmlist=[]\n",
    "\n",
    "eddies={'eddy_n%s' % ii:{'loc':[[randint(50,xlen-50), randint(50,ylen-50)]],'grow':True,'radius':a,\\\n",
    "                         'amp':random.choice([-1,1])} for ii in range(n)}\n",
    "#print(eddies)\n",
    "\n",
    "checkposition(eddies,x,y,away_val)"
   ]
  },
  {
   "cell_type": "code",
   "execution_count": null,
   "metadata": {},
   "outputs": [],
   "source": [
    "data=zeros(shape(X))\n",
    "for keys, item in eddies.items():\n",
    "    gauss=twoD_Gaussian((X,Y,item['amp'],x[item['loc'][0][0]],y[item['loc'][0][1]]),\\\n",
    "                        item['radius'], item['radius'], 0, slopex=0, slopey=0, offset=0).reshape(shape(X))\n",
    "    data=data+gauss"
   ]
  },
  {
   "cell_type": "code",
   "execution_count": null,
   "metadata": {
    "scrolled": true
   },
   "outputs": [],
   "source": [
    "pcolormesh(x,y,data)\n",
    "plt.gca().set_aspect('equal', adjustable='box')"
   ]
  },
  {
   "cell_type": "code",
   "execution_count": null,
   "metadata": {},
   "outputs": [],
   "source": [
    "def make_random_walk(indexs, steps,lx,ly):\n",
    "    move_dict = {1: go_up,\n",
    "                 2: go_right,\n",
    "                 3: go_left,\n",
    "                 4: go_down,\n",
    "                 5: go_downleft,\n",
    "                 6: go_downright,\n",
    "                 7: go_upleft,\n",
    "                 8: go_upright,\n",
    "                 }\n",
    "    #for _ in range(steps):\n",
    "    for ii in indexs:\n",
    "        move_in_a_direction = move_dict[random.randint(1, 8)]\n",
    "        movcood=move_in_a_direction(ii,steps)\n",
    "        xcoord=indexs[0]+movcood[0]\n",
    "        ycoord=indexs[1]+movcood[1]\n",
    "        if xcoord>lx-1:\n",
    "            xcoord=indexs[0]-movcood[0]\n",
    "        if ycoord>ly-1:\n",
    "            ycoord=indexs[1]-movcood[1]\n",
    "        #print(movcood[0])\n",
    "        #print(indexs[0],indexs[0]+movcood[0])\n",
    "\n",
    "    return xcoord,ycoord"
   ]
  },
  {
   "cell_type": "code",
   "execution_count": null,
   "metadata": {},
   "outputs": [],
   "source": [
    "eddies_loc=[item['loc'][-1] for key,item in eddies.items()]"
   ]
  },
  {
   "cell_type": "code",
   "execution_count": null,
   "metadata": {
    "scrolled": true
   },
   "outputs": [],
   "source": [
    "time=1\n",
    "moving=True\n",
    "count=0\n",
    "steps=3\n",
    "while time <= 1000:\n",
    "    for key,item in eddies.items():\n",
    "        test=True\n",
    "        iters=0\n",
    "        while test==True and iters < 1000:\n",
    "            new_loc=make_random_walk([item['loc'][time-1][0],item['loc'][time-1][1]],steps,len(x),len(y))\n",
    "            eddies_loc=[item['loc'][-1] for key,item in eddies.items()]\n",
    "            distance=np.array([dist([x[new_loc[0]],y[new_loc[1]]],[x[ii],y[jj]]) for ii,jj in eddies_loc])\n",
    "            if distance.any() > away_val*a or distance.any() > away_val*b:\n",
    "                item['loc'].append(new_loc)\n",
    "                test=False\n",
    "            else:\n",
    "                test=True\n",
    "            iters=iters+1\n",
    "        if iters==1000:\n",
    "            item['loc'].append([item['loc'][time-1][0],item['loc'][time-1][1]])\n",
    "    time=time+1"
   ]
  },
  {
   "cell_type": "code",
   "execution_count": null,
   "metadata": {},
   "outputs": [],
   "source": [
    "x=linspace(0,7,400)\n",
    "y=linspace(0,7,400)\n",
    "data=zeros((1000,len(x),len(y)))\n",
    "X,Y=meshgrid(x,y)\n",
    "for t in range(1000):\n",
    "    for keys, item in eddies.items():\n",
    "        #print(item['loc'][t][0])\n",
    "        if item['loc'][t][0]+50 > len(x)-1 or  item['loc'][t][1]+50 > len(y)-1:\n",
    "            gauss=0\n",
    "        elif item['loc'][t][0]+50 < 0 or  item['loc'][t][1]+50 < 0:\n",
    "            gauss=0\n",
    "        else:\n",
    "            gauss=twoD_Gaussian((X,Y,item['amp'],x[item['loc'][t][0]+50],y[item['loc'][t][1]+50]),\\\n",
    "                    item['radius'], item['radius'], 0, slopex=0, slopey=0, offset=0).reshape(shape(X))\n",
    "        data[t,:,:]=data[t,:,:]+gauss"
   ]
  },
  {
   "cell_type": "code",
   "execution_count": null,
   "metadata": {},
   "outputs": [],
   "source": [
    "pcolormesh(data[0,:,:])\n",
    "figure()\n",
    "pcolormesh(data[1,:,:])"
   ]
  },
  {
   "cell_type": "code",
   "execution_count": null,
   "metadata": {},
   "outputs": [],
   "source": [
    "ax1=plt.subplot(1, 1, 1)\n",
    "ax1.pcolormesh(x[50:350],y[50:350],data[0,50:350,50:350],shading='gouraud',cmap=cm.cm.balance,vmin=-1,vmax=1)\n",
    "ax1.yaxis.set_major_formatter(plt.NullFormatter())\n",
    "ax1.xaxis.set_major_formatter(plt.NullFormatter())\n",
    "ax1.set_xlabel('x')\n",
    "ax1.set_ylabel('y',rotation='horizontal')"
   ]
  },
  {
   "cell_type": "code",
   "execution_count": null,
   "metadata": {},
   "outputs": [],
   "source": [
    "import matplotlib.pyplot as plt\n",
    "import numpy as np\n",
    "import matplotlib.gridspec as gridspec\n",
    "import matplotlib.animation as animation\n",
    "from matplotlib import rc\n",
    "rc('animation', html='html5')\n",
    "############################\n",
    "#Create the figure\n",
    "\n",
    "fig = plt.figure(figsize=(3, 3),facecolor='white')\n",
    "gs = gridspec.GridSpec(1, 1)\n",
    "\n",
    "#############################\n",
    "\n",
    "ax1 = plt.subplot(gs[0,0])\n",
    "\n",
    "quad1 = ax1.pcolormesh(x,y,data[0,:,:],shading='gouraud',cmap=cm.cm.balance,vmin=-1,vmax=1)\n",
    "\n",
    "#line4a, =ax4.plot(lat,sum(zzz[0,:,:],axis=1),'-r')\n",
    "#ax4.set_ylim([-150,150])\n",
    "\n",
    "##############################\n",
    "\n",
    "##############################\n",
    "#Intitial stage blank\n",
    "def init():\n",
    "    quad1.set_array([])\n",
    "    #quad2.set_array([])\n",
    "    #line4a.set_data([], [])\n",
    "    #line4b.set_data([], [])\n",
    "    #text4.set_text('')\n",
    "    return quad1,quad2\n",
    "##############################\n",
    "\n",
    "##############################\n",
    "#Animation function, replace the values of the eke in a '1d list'\n",
    "def animate(iter):\n",
    "    quad1.set_array(data[iter,:,:].ravel())\n",
    "    ax1.set_title(str(iter))\n",
    "    \n",
    "    #line4a.set_data(lat,sum(zzz[iter,:,:],axis=1))\n",
    "    return quad1#,quad2\n",
    "##############################\n",
    "\n",
    "##############################\n",
    "#Remove edges\n",
    "gs.tight_layout(fig)\n",
    "##############################\n",
    "\n",
    "##############################\n",
    "#Animation structure\n",
    "anim2 = animation.FuncAnimation(fig,animate,frames=100,interval=1000,blit=False,repeat=True)\n",
    "##############################\n",
    "plt.close()\n",
    "##############################\n",
    "#Display and convert animation to html5\n",
    "anim2"
   ]
  },
  {
   "cell_type": "code",
   "execution_count": null,
   "metadata": {},
   "outputs": [],
   "source": [
    "levels = {'max':data.max(),'min':0.1,'step':0.3}\n",
    "preferences={'ellipse':0.85,'eccentricity':0.85,'gaussian':0.8}"
   ]
  },
  {
   "cell_type": "code",
   "execution_count": null,
   "metadata": {},
   "outputs": [],
   "source": [
    "eddytd=analyseddyzt(data,x,y,0,1,1,levels,preferences=preferences,areamap='',mask='',maskopt='forcefit'\n",
    "                    ,destdir='',physics='',diagnostics=False,plotdata=False,pprint=True)"
   ]
  },
  {
   "cell_type": "code",
   "execution_count": null,
   "metadata": {},
   "outputs": [],
   "source": [
    "test1=reconstruct_syntetic(shape(data),x,y,eddytd)"
   ]
  },
  {
   "cell_type": "code",
   "execution_count": null,
   "metadata": {},
   "outputs": [],
   "source": [
    "eddytd=analyseddyzt(data,x,y,1,2,1,levels,preferences=preferences,areamap='',mask='',maskopt='forcefit'\n",
    "                    ,destdir='',physics='',diagnostics=False,plotdata=False,pprint=True)"
   ]
  },
  {
   "cell_type": "code",
   "execution_count": null,
   "metadata": {},
   "outputs": [],
   "source": [
    "test2=reconstruct_syntetic(shape(data),x,y,eddytd)"
   ]
  },
  {
   "cell_type": "code",
   "execution_count": null,
   "metadata": {},
   "outputs": [],
   "source": [
    "eddytd=analyseddyzt(data,x,y,2,3,1,levels,preferences=preferences,areamap='',mask='',maskopt='forcefit'\n",
    "                    ,destdir='',physics='',diagnostics=False,plotdata=False,pprint=True)"
   ]
  },
  {
   "cell_type": "code",
   "execution_count": null,
   "metadata": {},
   "outputs": [],
   "source": [
    "test3=reconstruct_syntetic(shape(data),x,y,eddytd)"
   ]
  },
  {
   "cell_type": "code",
   "execution_count": null,
   "metadata": {},
   "outputs": [],
   "source": [
    "eddytd=analyseddyzt(data,x,y,3,4,1,levels,preferences=preferences,areamap='',mask='',maskopt='forcefit'\n",
    "                    ,destdir='',physics='',diagnostics=False,plotdata=False,pprint=True)"
   ]
  },
  {
   "cell_type": "code",
   "execution_count": null,
   "metadata": {},
   "outputs": [],
   "source": [
    "test4=reconstruct_syntetic(shape(data),x,y,eddytd)"
   ]
  },
  {
   "cell_type": "code",
   "execution_count": null,
   "metadata": {},
   "outputs": [],
   "source": [
    "eddytd=analyseddyzt(data,x,y,0,1000,1,levels,preferences=preferences,areamap='',mask='',maskopt='forcefit'\n",
    "                    ,destdir='',physics='',diagnostics=False,plotdata=False,pprint=True)"
   ]
  },
  {
   "cell_type": "code",
   "execution_count": null,
   "metadata": {},
   "outputs": [],
   "source": [
    "test5=reconstruct_syntetic(shape(data),x,y,eddytd)"
   ]
  },
  {
   "cell_type": "code",
   "execution_count": null,
   "metadata": {},
   "outputs": [],
   "source": [
    "figure()\n",
    "pcolormesh(x,y,test1[0,:,:])\n",
    "figure()\n",
    "pcolormesh(x,y,test2[1,:,:])\n",
    "figure()\n",
    "pcolormesh(x,y,test3[2,:,:])\n",
    "figure()\n",
    "pcolormesh(x,y,test4[3,:,:])\n",
    "figure()\n",
    "pcolormesh(x,y,test5[0,:,:])\n",
    "figure()\n",
    "pcolormesh(x,y,test5[1,:,:])"
   ]
  },
  {
   "cell_type": "code",
   "execution_count": null,
   "metadata": {},
   "outputs": [],
   "source": [
    "levels = {'max':data.min(),'min':-0.1,'step':-0.3}\n",
    "eddytdn=analyseddyzt(data,x,y,0,1000,1,levels,preferences=preferences,areamap='',mask='',maskopt='forcefit'\n",
    "                    ,destdir='',physics='',diagnostics=False,plotdata=False,pprint=True)"
   ]
  },
  {
   "cell_type": "code",
   "execution_count": null,
   "metadata": {},
   "outputs": [],
   "source": [
    "syntetic_gaussian=reconstruct_syntetic(shape(data),x,y,eddytd)+reconstruct_syntetic(shape(data),x,y,eddytdn)"
   ]
  },
  {
   "cell_type": "code",
   "execution_count": null,
   "metadata": {},
   "outputs": [],
   "source": [
    "import matplotlib.pyplot as plt\n",
    "import numpy as np\n",
    "import matplotlib.gridspec as gridspec\n",
    "import matplotlib.animation as animation\n",
    "from matplotlib import rc\n",
    "rc('animation', html='html5')\n",
    "############################\n",
    "#Create the figure\n",
    "\n",
    "fig = plt.figure(figsize=(6, 3),facecolor='white')\n",
    "gs = gridspec.GridSpec(1, 2)\n",
    "\n",
    "#############################\n",
    "\n",
    "ax1 = plt.subplot(gs[0,0])\n",
    "\n",
    "quad1 = ax1.pcolormesh(x,y,data[0,:,:],shading='gouraud',cmap=cm.cm.balance,vmin=-1,vmax=1)\n",
    "\n",
    "ax2 = plt.subplot(gs[0,1])\n",
    "\n",
    "quad2 = ax2.pcolormesh(x,y,syntetic_gaussian[0,:,:],shading='gouraud',cmap=cm.cm.balance,vmin=-1,vmax=1)\n",
    "\n",
    "\n",
    "#line4a, =ax4.plot(lat,sum(zzz[0,:,:],axis=1),'-r')\n",
    "#ax4.set_ylim([-150,150])\n",
    "\n",
    "##############################\n",
    "\n",
    "##############################\n",
    "#Intitial stage blank\n",
    "def init():\n",
    "    quad1.set_array([])\n",
    "    quad2.set_array([])\n",
    "    #line4a.set_data([], [])\n",
    "    #line4b.set_data([], [])\n",
    "    #text4.set_text('')\n",
    "    return quad1,quad2\n",
    "##############################\n",
    "\n",
    "##############################\n",
    "#Animation function, replace the values of the eke in a '1d list'\n",
    "def animate(iter):\n",
    "    quad1.set_array(data[iter,:,:].ravel())\n",
    "    quad2.set_array(syntetic_gaussian[iter,:,:].ravel())\n",
    "    \n",
    "    #line4a.set_data(lat,sum(zzz[iter,:,:],axis=1))\n",
    "    return quad1,quad2\n",
    "##############################\n",
    "\n",
    "##############################\n",
    "#Remove edges\n",
    "gs.tight_layout(fig)\n",
    "##############################\n",
    "\n",
    "##############################\n",
    "#Animation structure\n",
    "anim2 = animation.FuncAnimation(fig,animate,frames=1000,interval=1000,blit=False,repeat=True)\n",
    "##############################\n",
    "plt.close()\n",
    "##############################\n",
    "#Display and convert animation to html5\n",
    "anim2"
   ]
  },
  {
   "cell_type": "code",
   "execution_count": null,
   "metadata": {},
   "outputs": [],
   "source": [
    "pathp={}\n",
    "for key,item in eddytd.items():\n",
    "    pathp[key]=[]\n",
    "    path=[]\n",
    "    count=0\n",
    "    for ii in range(1,item['time'][-1][0]):\n",
    "        if ii not in item['time']:\n",
    "            path.append(item['position_eddy'][count,:])\n",
    "        else:\n",
    "            path.append(item['position_eddy'][count,:])\n",
    "            count=count+1 \n",
    "    pathp[key]=array(path)"
   ]
  },
  {
   "cell_type": "code",
   "execution_count": null,
   "metadata": {},
   "outputs": [],
   "source": [
    "pathn={}\n",
    "for key,item in eddytdn.items():\n",
    "    pathn[key]=[]\n",
    "    path=[]\n",
    "    count=0\n",
    "    for ii in range(1,int(item['time'][-1])):\n",
    "        if ii not in item['time']:\n",
    "            try:\n",
    "                path.append(item['position_eddy'][count,:])\n",
    "            except:\n",
    "                path.append(item['position_eddy'])\n",
    "        else:\n",
    "            try:\n",
    "                path.append(item['position_eddy'][count,:])\n",
    "            except:\n",
    "                path.append(item['position_eddy'])\n",
    "            count=count+1 \n",
    "    pathn[key]=array(path)"
   ]
  },
  {
   "cell_type": "code",
   "execution_count": null,
   "metadata": {},
   "outputs": [],
   "source": [
    "import matplotlib.pyplot as plt\n",
    "import numpy as np\n",
    "import matplotlib.gridspec as gridspec\n",
    "import matplotlib.animation as animation\n",
    "from matplotlib import rc\n",
    "rc('animation', html='html5')\n",
    "############################\n",
    "#Create the figure\n",
    "\n",
    "fig = plt.figure(figsize=(6, 6),facecolor='white')\n",
    "gs = gridspec.GridSpec(1, 1)\n",
    "\n",
    "#############################\n",
    "\n",
    "ax1 = plt.subplot(gs[0,0])\n",
    "\n",
    "quad1 = ax1.pcolormesh(x,y,data[0,:,:],shading='gouraud',cmap=cm.cm.balance,vmin=-1,vmax=1)\n",
    "\n",
    "\n",
    "line1a, =ax1.plot(pathp['eddyn_0'][0,0],pathp['eddyn_0'][0,1],'*g')\n",
    "line1b, =ax1.plot(pathp['eddyn_1'][0,0],pathp['eddyn_1'][0,1],'*g')\n",
    "line1c, =ax1.plot(pathp['eddyn_2'][0,0],pathp['eddyn_2'][0,1],'*g')\n",
    "\n",
    "\n",
    "line1a, =ax1.plot(pathp['eddyn_0'][0,0],pathp['eddyn_0'][0,1],'-k')\n",
    "line1b, =ax1.plot(pathp['eddyn_1'][0,0],pathp['eddyn_1'][0,1],'-k')\n",
    "line1c, =ax1.plot(pathp['eddyn_2'][0,0],pathp['eddyn_2'][0,1],'-k')\n",
    "\n",
    "line2a, =ax1.plot(pathn['eddyn_0'][0,0],pathn['eddyn_0'][0,1],'*g')\n",
    "line2b, =ax1.plot(pathn['eddyn_1'][0,0],pathn['eddyn_1'][0,1],'*g')\n",
    "line2c, =ax1.plot(pathn['eddyn_2'][0,0],pathn['eddyn_2'][0,1],'*g')\n",
    "#line2d, =ax1.plot(pathn['eddyn_3'][0,0],pathn['eddyn_3'][0,1],'*g')\n",
    "\n",
    "\n",
    "line2a, =ax1.plot(pathn['eddyn_0'][0,0],pathn['eddyn_0'][0,1],'-k')\n",
    "line2b, =ax1.plot(pathn['eddyn_1'][0,0],pathn['eddyn_1'][0,1],'-k')\n",
    "line2c, =ax1.plot(pathn['eddyn_2'][0,0],pathn['eddyn_2'][0,1],'-k')\n",
    "#line2d, =ax1.plot(pathn['eddyn_3'][0,0],pathn['eddyn_3'][0,1],'-k')\n",
    "#ax4.set_ylim([-150,150])\n",
    "\n",
    "##############################\n",
    "\n",
    "##############################\n",
    "#Intitial stage blank\n",
    "def init():\n",
    "    quad1.set_array([])\n",
    "    line1a.set_data([], [])\n",
    "    line1b.set_data([], [])\n",
    "    line2a.set_data([], [])\n",
    "    line2b.set_data([], [])\n",
    "    line2c.set_data([], [])\n",
    "    line2d.set_data([], [])\n",
    "    return quad1,quad2\n",
    "##############################\n",
    "\n",
    "##############################\n",
    "#Animation function, replace the values of the eke in a '1d list'\n",
    "def animate(iter):\n",
    "    quad1.set_array(data[iter,:,:].ravel())\n",
    "    line1a.set_data(pathp['eddyn_0'][0:iter+1,0],pathp['eddyn_0'][0:iter+1,1])\n",
    "    line1b.set_data(pathp['eddyn_1'][0:iter+1,0],pathp['eddyn_1'][0:iter+1,1])\n",
    "    line1c.set_data(pathp['eddyn_2'][0:iter+1,0],pathp['eddyn_2'][0:iter+1,1])\n",
    "    line2a.set_data(pathn['eddyn_0'][0:iter+1,0],pathn['eddyn_0'][0:iter+1,1])\n",
    "    line2b.set_data(pathn['eddyn_1'][0:iter+1,0],pathn['eddyn_1'][0:iter+1,1])\n",
    "    line2c.set_data(pathn['eddyn_2'][0:iter+1,0],pathn['eddyn_2'][0:iter+1,1])\n",
    "    #line2d.set_data(pathn['eddyn_3'][0:iter,0],pathn['eddyn_3'][0:iter,1])\n",
    "    \n",
    "    return quad1,quad2\n",
    "##############################\n",
    "\n",
    "##############################\n",
    "#Remove edges\n",
    "gs.tight_layout(fig)\n",
    "##############################\n",
    "\n",
    "##############################\n",
    "#Animation structure\n",
    "anim2 = animation.FuncAnimation(fig,animate,frames=30,interval=1000,blit=False,repeat=True)\n",
    "##############################\n",
    "plt.close()\n",
    "##############################\n",
    "#Display and convert animation to html5\n",
    "anim2"
   ]
  },
  {
   "cell_type": "code",
   "execution_count": null,
   "metadata": {},
   "outputs": [],
   "source": [
    "#ii = 300\n",
    "for ii in range(0,300): \n",
    "    fig = plt.figure(figsize=(12, 6),facecolor='white',dpi=150)\n",
    "    gs = gridspec.GridSpec(1, 2)\n",
    "\n",
    "    ax1 = plt.subplot(gs[0,0])\n",
    "    ax2 = plt.subplot(gs[0,1])\n",
    "    quad1 = ax1.pcolormesh(x,y,data[ii,:,:],shading='gouraud',cmap=cm.cm.balance,vmin=-1,vmax=1)\n",
    "\n",
    "    line1a, =ax1.plot(pathp['eddyn_0'][0,0],pathp['eddyn_0'][0,1],'*g')\n",
    "    line1b, =ax1.plot(pathp['eddyn_1'][0,0],pathp['eddyn_1'][0,1],'*g')\n",
    "    line1c, =ax1.plot(pathp['eddyn_2'][0,0],pathp['eddyn_2'][0,1],'*g')\n",
    "\n",
    "    line2a, =ax1.plot(pathn['eddyn_0'][0,0],pathn['eddyn_0'][0,1],'og')\n",
    "    line2b, =ax1.plot(pathn['eddyn_1'][0,0],pathn['eddyn_1'][0,1],'og')\n",
    "    line2c, =ax1.plot(pathn['eddyn_2'][0,0],pathn['eddyn_2'][0,1],'og')\n",
    "\n",
    "    line1a, =ax1.plot(pathp['eddyn_0'][0:ii,0],pathp['eddyn_0'][0:ii,1],'-k')\n",
    "    line1b, =ax1.plot(pathp['eddyn_1'][0:ii,0],pathp['eddyn_1'][0:ii,1],'-k')\n",
    "    line1c, =ax1.plot(pathp['eddyn_2'][0:ii,0],pathp['eddyn_2'][0:ii,1],'-k')\n",
    "\n",
    "    line1a, =ax1.plot(pathn['eddyn_0'][0:ii,0],pathn['eddyn_0'][0:ii,1],'-k')\n",
    "    line1b, =ax1.plot(pathn['eddyn_1'][0:ii,0],pathn['eddyn_1'][0:ii,1],'-k')\n",
    "    line1c, =ax1.plot(pathn['eddyn_2'][0:ii,0],pathn['eddyn_2'][0:ii,1],'-k')\n",
    "\n",
    "    quad1 = ax2.pcolormesh(x,y,syntetic_gaussian[ii,:,:],shading='gouraud',cmap=cm.cm.balance,vmin=-1,vmax=1)\n",
    "    savefig('./tmp/random_walker_%03d.png' % ii)\n",
    "    plt.close()"
   ]
  },
  {
   "cell_type": "code",
   "execution_count": null,
   "metadata": {},
   "outputs": [],
   "source": []
  },
  {
   "cell_type": "code",
   "execution_count": null,
   "metadata": {},
   "outputs": [],
   "source": [
    "eddytdn['eddyn_0']['position_eddy']"
   ]
  },
  {
   "cell_type": "code",
   "execution_count": null,
   "metadata": {},
   "outputs": [],
   "source": [
    "pcolormesh(x,y,syntetic_gaussian[0,:,:])"
   ]
  },
  {
   "cell_type": "code",
   "execution_count": null,
   "metadata": {},
   "outputs": [],
   "source": []
  }
 ],
 "metadata": {
  "kernelspec": {
   "display_name": "track_env",
   "language": "python",
   "name": "track_env"
  },
  "language_info": {
   "codemirror_mode": {
    "name": "ipython",
    "version": 3
   },
   "file_extension": ".py",
   "mimetype": "text/x-python",
   "name": "python",
   "nbconvert_exporter": "python",
   "pygments_lexer": "ipython3",
   "version": "3.6.10"
  }
 },
 "nbformat": 4,
 "nbformat_minor": 4
}
